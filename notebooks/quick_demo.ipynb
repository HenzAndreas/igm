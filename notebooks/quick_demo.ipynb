{
  "cells": [
    {
      "cell_type": "markdown",
      "metadata": {
        "id": "rAUqsaod_fyK"
      },
      "source": [
        "This tutorial aims to run IGM providing an RGI ID"
      ]
    },
    {
      "cell_type": "code",
      "source": [
        "!git clone https://github.com/jouvetg/igm2\n",
        "!mv igm2/igm .\n",
        "!rm -rf igm2\n",
        "!pip install netCDF4 oggm rasterio mayavi"
      ],
      "metadata": {
        "id": "PqNwkDNL_35V"
      },
      "execution_count": null,
      "outputs": []
    },
    {
      "cell_type": "code",
      "execution_count": null,
      "metadata": {
        "id": "uBOBCR8F_fyL"
      },
      "outputs": [],
      "source": [
        "#!/usr/bin/env python3\n",
        "\n",
        "import numpy as np\n",
        "import matplotlib.pyplot as plt\n",
        "import tensorflow as tf\n",
        "import math\n",
        "import igm\n",
        "\n",
        " ## add custumized smb function\n",
        "def params_mysmb(parser):\n",
        "    parser.add_argument(\"--meanela\", type=float, default=3000 )\n",
        "\n",
        "def init_mysmb(params,state):\n",
        "    params.meanela = np.quantile(state.usurf[state.thk>10],0.2)\n",
        "\n",
        "def update_mysmb(params,state):\n",
        "    # perturabe the ELA with sinusional signal\n",
        "    ELA = ( params.meanela - 750*math.sin((state.t/100)*math.pi) )\n",
        "    # compute smb linear with elevation with 2 acc & abl gradients\n",
        "    state.smb  = state.usurf - ELA\n",
        "    state.smb *= tf.where(state.smb<0, 0.005, 0.009)\n",
        "    # cap smb by 2 m/y\n",
        "    state.smb  = tf.clip_by_value(state.smb, -100, 2)\n",
        "    # make sure the smb is not positive outside of the mask to prevent overflow\n",
        "    if hasattr(state, \"icemask\"):\n",
        "        state.smb  = tf.where((state.smb<0)|(state.icemask>0.5),state.smb,-10)\n",
        "\n",
        "def final_mysmb(params,state):\n",
        "    pass\n",
        "\n",
        "# make sure to make these function new attributes of the igm module\n",
        "igm.params_mysmb  = params_mysmb\n",
        "igm.init_mysmb    = init_mysmb\n",
        "igm.update_mysmb  = update_mysmb\n",
        "igm.final_mysmb   = final_mysmb\n",
        "\n",
        "# Select one OPTION btw the first, keep the MANDATORY ones, un/comment OPTIONAL modules\n",
        "modules = [\n",
        "           \"prepare_data\",          # OPTION 1  : download and prepare the data with OGGM\n",
        "#            \"optimize\",             # OPTIONAL  : optimize unobservable variables from obs.\n",
        "            \"mysmb\",                # OPTIONAL  : custom surface mass balance model\n",
        "            \"flow_dt_thk\",          # MANDATORY : update the ice thickness solving mass cons.\n",
        "            \"vertical_iceflow\",     # OPTIONAL  : retrieve vertical ice flow from horiz.\n",
        "#           \"particles\",            # OPTIONAL  : seed and update particle trajectories\n",
        "#           \"write_particles\",      # OPTIONAL  : write particle trajectories to a csv file\n",
        "            \"write_ncdf_ex\",        # OPTIONAL  : write 2d state data to netcdf files\n",
        "            \"write_tif_ex\",        # OPTIONAL  : write the result in tif files\n",
        "#           \"write_ncdf_ts\",        # OPTIONAL  : write time serie data to netcdf files\n",
        "#           \"write_plot2d\",         # OPTIONAL  : write 2d state plots to png files\n",
        "            \"print_info\",           # OPTIONAL  : print basic live-info about the model state\n",
        "            \"print_all_comp_info\",  # OPTIONAL  : report information about computation time\n",
        "            \"anim3d_from_ncdf_ex\"   # OPTIONAL  : make a nice 3D animation of glacier evolution\n",
        "          ]\n",
        "\n",
        "# Collect and parse all the parameters of all model components\n",
        "parser = igm.params_core()\n",
        "for module in modules:\n",
        "    getattr(igm, \"params_\" + module)(parser)\n",
        "params = parser.parse_args(args=[])\n",
        "\n",
        "# Override parameters\n",
        "params.RGI         = 'RGI60-11.01238'\n",
        "params.tstart      = 2000.0\n",
        "params.tend        = 2100.0\n",
        "params.tsave       = 5\n",
        "params.plot_live   = True\n",
        "params.observation = (\"optimize\" in modules)\n",
        "\n",
        "# Define a state class/dictionnary that contains all the data\n",
        "state = igm.State()\n",
        "igm.init_state(params, state)\n",
        "\n",
        "# Place the computation on your device GPU ('/GPU:0') or CPU ('/CPU:0')\n",
        "with tf.device(\"/GPU:0\"):\n",
        "\n",
        "    # Initialize all the model components in turn\n",
        "    for module in modules:\n",
        "        getattr(igm, \"init_\" + module)(params, state)\n",
        "\n",
        "    # Time loop, perform the simulation until reaching the defined end time\n",
        "    while state.t < params.tend:\n",
        "\n",
        "        # Update each model components in turn\n",
        "        for module in modules:\n",
        "            getattr(igm, \"update_\" + module)(params, state)\n",
        "\n",
        "    # Finalize each module in turn\n",
        "    for module in modules:\n",
        "        getattr(igm, \"final_\" + module)(params, state)\n"
      ]
    }
  ],
  "metadata": {
    "kernelspec": {
      "display_name": "Python 3",
      "name": "python3"
    },
    "language_info": {
      "codemirror_mode": {
        "name": "ipython",
        "version": 3
      },
      "file_extension": ".py",
      "mimetype": "text/x-python",
      "name": "python",
      "nbconvert_exporter": "python",
      "pygments_lexer": "ipython3",
      "version": "3.10.8"
    },
    "orig_nbformat": 4,
    "colab": {
      "provenance": [],
      "gpuType": "T4"
    },
    "accelerator": "GPU"
  },
  "nbformat": 4,
  "nbformat_minor": 0
}