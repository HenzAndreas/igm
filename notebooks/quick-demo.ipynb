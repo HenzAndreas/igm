{
 "cells": [
  {
   "attachments": {},
   "cell_type": "markdown",
   "metadata": {},
   "source": [
    "This tutorial aims to run IGM providing an RGI ID"
   ]
  },
  {
   "cell_type": "code",
   "execution_count": 2,
   "metadata": {},
   "outputs": [
    {
     "name": "stderr",
     "output_type": "stream",
     "text": [
      "2023-07-26 08:53:51: oggm.cfg: Reading default parameters from the OGGM `params.cfg` configuration file.\n",
      "2023-07-26 08:53:51: oggm.cfg: Multiprocessing switched OFF according to the parameter file.\n",
      "2023-07-26 08:53:51: oggm.cfg: Multiprocessing: using all available processors (N=16)\n"
     ]
    },
    {
     "name": "stdout",
     "output_type": "stream",
     "text": [
      "PARAMETERS ARE ...... \n",
      "                   working_dir : \n",
      "                 logging_level : CRITICAL\n",
      "                  logging_file : igm.log\n",
      "                           RGI : RGI60-11.01238\n",
      "                    preprocess : True\n",
      "                            dx : 100\n",
      "                        border : 30\n",
      "                    thk_source : consensus_ice_thickness\n",
      "                   observation : False\n",
      "                 path_glathida : /home/gjouvet/\n",
      "                output_geology : True\n",
      "                       meanela : 3000\n",
      "                  type_iceflow : emulated\n",
      "                      emulator : f21_pinnbp_GJ_23_a\n",
      "               iceflow_physics : 2\n",
      "                init_slidingco : 10000\n",
      "                init_arrhenius : 78\n",
      "                     regu_glen : 1e-05\n",
      "                 regu_weertman : 1e-10\n",
      "                      exp_glen : 3\n",
      "                  exp_weertman : 3\n",
      "                            Nz : 10\n",
      "                  vert_spacing : 4.0\n",
      "                   thr_ice_thk : 0.1\n",
      "       solve_iceflow_step_size : 1\n",
      "         solve_iceflow_nbitmax : 100\n",
      "           stop_if_no_decrease : True\n",
      "                       fieldin : ['thk', 'usurf', 'arrhenius', 'slidingco', 'dX']\n",
      "              z_dept_arrhenius : False\n",
      " retrain_iceflow_emulator_freq : 10\n",
      "   retrain_iceflow_emulator_lr : 2e-05\n",
      " retrain_iceflow_emulator_nbit : 1\n",
      "retrain_iceflow_emulator_framesizemax : 750\n",
      "          multiple_window_size : 0\n",
      "              force_max_velbar : 0\n",
      "                       network : cnn\n",
      "                    activation : lrelu\n",
      "                     nb_layers : 16\n",
      "                     nb_blocks : 4\n",
      "                 nb_out_filter : 32\n",
      "                 conv_ker_size : 3\n",
      "                  dropout_rate : 0\n",
      "                        tstart : 2000.0\n",
      "                          tend : 2100.0\n",
      "                         tsave : 5\n",
      "                           cfl : 0.3\n",
      "                         dtmax : 10.0\n",
      "          vars_to_save_ncdf_ex : ['topg', 'usurf', 'thk', 'smb', 'velbar_mag', 'velsurf_mag', 'uvelsurf', 'vvelsurf', 'wvelsurf']\n",
      "                  vars_to_save : ['usurf', 'thk']\n",
      "                     plot_live : True\n"
     ]
    },
    {
     "name": "stderr",
     "output_type": "stream",
     "text": [
      "2023-07-26 08:53:55: oggm.workflow: init_glacier_directories from prepro level 2 on 1 glaciers.\n",
      "2023-07-26 08:53:55: oggm.workflow: Execute entity tasks [gdir_from_prepro] on 1 glaciers\n"
     ]
    },
    {
     "name": "stdout",
     "output_type": "stream",
     "text": [
      "WARNING:tensorflow:No training configuration found in the save file, so the model was *not* compiled. Compile it manually.\n"
     ]
    },
    {
     "name": "stderr",
     "output_type": "stream",
     "text": [
      "2023-07-26 08:53:55: tensorflow: No training configuration found in the save file, so the model was *not* compiled. Compile it manually.\n"
     ]
    },
    {
     "name": "stdout",
     "output_type": "stream",
     "text": [
      "IGM %s :         Iterations   |         Time (y)     |     Time Step (y)   |   Ice Volume (km^3) \n"
     ]
    },
    {
     "name": "stderr",
     "output_type": "stream",
     "text": [
      "2023-07-26 08:53:56.991684: I tensorflow/stream_executor/cuda/cuda_dnn.cc:368] Loaded cuDNN version 8800\n",
      "2023-07-26 08:53:58.370843: I tensorflow/core/platform/default/subprocess.cc:304] Start cannot spawn child process: No such file or directory\n",
      "2023-07-26 08:53:58.373550: I tensorflow/core/platform/default/subprocess.cc:304] Start cannot spawn child process: No such file or directory\n",
      "2023-07-26 08:53:58.373611: W tensorflow/stream_executor/gpu/asm_compiler.cc:80] Couldn't get ptxas version string: INTERNAL: Couldn't invoke ptxas --version\n",
      "2023-07-26 08:53:58.375733: I tensorflow/core/platform/default/subprocess.cc:304] Start cannot spawn child process: No such file or directory\n",
      "2023-07-26 08:53:58.375955: W tensorflow/stream_executor/gpu/redzone_allocator.cc:314] INTERNAL: Failed to launch ptxas\n",
      "Relying on driver to perform ptx compilation. \n",
      "Modify $PATH to customize ptxas location.\n",
      "This message will be only logged once.\n",
      "2023-07-26 08:53:58.510281: I tensorflow/stream_executor/cuda/cuda_blas.cc:1786] TensorFloat-32 will be used for the matrix multiplication. This will only be logged once.\n"
     ]
    },
    {
     "name": "stdout",
     "output_type": "stream",
     "text": [
      "IGM 08:54:07 :          11    |          2005        |        0.63        |           1.61 \n",
      "IGM 08:54:07 :          19    |          2010        |        0.62        |           1.72 \n",
      "IGM 08:54:08 :          30    |          2015        |        0.43        |           1.84 \n",
      "IGM 08:54:08 :          46    |          2020        |        0.30        |           1.95 \n",
      "IGM 08:54:09 :          62    |          2025        |        0.39        |           2.04 \n",
      "IGM 08:54:09 :          75    |          2030        |        0.43        |           2.13 \n",
      "IGM 08:54:09 :          87    |          2035        |        0.43        |           2.21 \n",
      "IGM 08:54:10 :         100    |          2040        |        0.39        |           2.28 \n",
      "IGM 08:54:10 :         116    |          2045        |        0.26        |           2.33 \n",
      "IGM 08:54:11 :         141    |          2050        |        0.19        |           2.37 \n",
      "IGM 08:54:11 :         168    |          2055        |        0.19        |           2.40 \n",
      "IGM 08:54:12 :         195    |          2060        |        0.17        |           2.42 \n",
      "IGM 08:54:13 :         227    |          2065        |        0.15        |           2.44 \n",
      "IGM 08:54:14 :         259    |          2070        |        0.17        |           2.46 \n",
      "IGM 08:54:14 :         290    |          2075        |        0.16        |           2.49 \n",
      "IGM 08:54:15 :         324    |          2080        |        0.15        |           2.52 \n",
      "IGM 08:54:16 :         357    |          2085        |        0.15        |           2.54 \n",
      "IGM 08:54:17 :         394    |          2090        |        0.13        |           2.58 \n",
      "IGM 08:54:18 :         432    |          2095        |        0.13        |           2.62 \n",
      "IGM 08:54:19 :         471    |          2100        |        0.13        |           2.65 \n",
      "Computational statistics report:\n",
      "                      iceflow  |  mean time per it :   0.0376  |  total :  17.7309  |  number it  :      471\n",
      "                    time_step  |  mean time per it :   0.0014  |  total :   0.6393  |  number it  :      471\n",
      "                          thk  |  mean time per it :   0.0017  |  total :   0.8034  |  number it  :      471\n",
      "             vertical_iceflow  |  mean time per it :   0.0071  |  total :   3.3571  |  number it  :      471\n",
      "                write_ncdf_ex  |  mean time per it :   0.0127  |  total :   0.2547  |  number it  :       20\n"
     ]
    }
   ],
   "source": [
    "#!/usr/bin/env python3\n",
    " \n",
    "import numpy as np\n",
    "import matplotlib.pyplot as plt\n",
    "import tensorflow as tf\n",
    "import math\n",
    "import igm\n",
    "\n",
    " ## add custumized smb function\n",
    "def params_mysmb(parser):  \n",
    "    parser.add_argument(\"--meanela\", type=float, default=3000 )\n",
    "\n",
    "def init_mysmb(params,state):\n",
    "    params.meanela = np.quantile(state.usurf[state.thk>10],0.2)\n",
    "\n",
    "def update_mysmb(params,state):\n",
    "    # perturabe the ELA with sinusional signal \n",
    "    ELA = ( params.meanela - 750*math.sin((state.t/100)*math.pi) )\n",
    "    # compute smb linear with elevation with 2 acc & abl gradients\n",
    "    state.smb  = state.usurf - ELA\n",
    "    state.smb *= tf.where(state.smb<0, 0.005, 0.009)\n",
    "    # cap smb by 2 m/y \n",
    "    state.smb  = tf.clip_by_value(state.smb, -100, 2)\n",
    "    # make sure the smb is not positive outside of the mask to prevent overflow\n",
    "    if hasattr(state, \"icemask\"):\n",
    "        state.smb  = tf.where((state.smb<0)|(state.icemask>0.5),state.smb,-10)\n",
    "    \n",
    "def final_mysmb(params,state):\n",
    "    pass\n",
    "\n",
    "# make sure to make these function new attributes of the igm module\n",
    "igm.params_mysmb  = params_mysmb  \n",
    "igm.init_mysmb    = init_mysmb  \n",
    "igm.update_mysmb  = update_mysmb\n",
    "igm.final_mysmb   = final_mysmb\n",
    " \n",
    "# Select one OPTION btw the first, keep the MANDATORY ones, un/comment OPTIONAL modules\n",
    "modules = [\n",
    "           \"prepare_data\",          # OPTION 1  : download and prepare the data with OGGM\n",
    "#            \"optimize\",             # OPTIONAL  : optimize unobservable variables from obs.\n",
    "            \"mysmb\",                # OPTIONAL  : custom surface mass balance model\n",
    "            \"flow_dt_thk\",          # MANDATORY : update the ice thickness solving mass cons.\n",
    "            \"vertical_iceflow\",     # OPTIONAL  : retrieve vertical ice flow from horiz.\n",
    "#           \"particles\",            # OPTIONAL  : seed and update particle trajectories\n",
    "#           \"write_particles\",      # OPTIONAL  : write particle trajectories to a csv file\n",
    "            \"write_ncdf_ex\",        # OPTIONAL  : write 2d state data to netcdf files\n",
    "            \"write_tif_ex\",        # OPTIONAL  : write the result in tif files\n",
    "#           \"write_ncdf_ts\",        # OPTIONAL  : write time serie data to netcdf files\n",
    "#           \"write_plot2d\",         # OPTIONAL  : write 2d state plots to png files\n",
    "            \"print_info\",           # OPTIONAL  : print basic live-info about the model state\n",
    "            \"print_all_comp_info\",  # OPTIONAL  : report information about computation time\n",
    "            \"anim3d_from_ncdf_ex\"   # OPTIONAL  : make a nice 3D animation of glacier evolution\n",
    "          ]\n",
    "\n",
    "# Collect and parse all the parameters of all model components\n",
    "parser = igm.params_core()\n",
    "for module in modules:\n",
    "    getattr(igm, \"params_\" + module)(parser)\n",
    "params = parser.parse_args(args=[])\n",
    "\n",
    "# Override parameters\n",
    "params.RGI         = 'RGI60-11.01238'\n",
    "params.tstart      = 2000.0\n",
    "params.tend        = 2100.0\n",
    "params.tsave       = 5\n",
    "params.plot_live   = True\n",
    "params.observation = (\"optimize\" in modules)\n",
    "\n",
    "# Define a state class/dictionnary that contains all the data\n",
    "state = igm.State()\n",
    "igm.init_state(params, state)\n",
    "\n",
    "# Place the computation on your device GPU ('/GPU:0') or CPU ('/CPU:0')\n",
    "with tf.device(\"/GPU:0\"):\n",
    "\n",
    "    # Initialize all the model components in turn\n",
    "    for module in modules:\n",
    "        getattr(igm, \"init_\" + module)(params, state)\n",
    "\n",
    "    # Time loop, perform the simulation until reaching the defined end time\n",
    "    while state.t < params.tend:\n",
    "        \n",
    "        # Update each model components in turn\n",
    "        for module in modules:\n",
    "            getattr(igm, \"update_\" + module)(params, state)\n",
    "            \n",
    "    # Finalize each module in turn\n",
    "    for module in modules:\n",
    "        getattr(igm, \"final_\" + module)(params, state)\n"
   ]
  }
 ],
 "metadata": {
  "kernelspec": {
   "display_name": "igm",
   "language": "python",
   "name": "python3"
  },
  "language_info": {
   "codemirror_mode": {
    "name": "ipython",
    "version": 3
   },
   "file_extension": ".py",
   "mimetype": "text/x-python",
   "name": "python",
   "nbconvert_exporter": "python",
   "pygments_lexer": "ipython3",
   "version": "3.10.8"
  },
  "orig_nbformat": 4
 },
 "nbformat": 4,
 "nbformat_minor": 2
}
